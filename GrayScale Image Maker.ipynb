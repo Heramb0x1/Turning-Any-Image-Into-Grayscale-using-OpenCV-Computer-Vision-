{
 "cells": [
  {
   "cell_type": "code",
   "execution_count": null,
   "id": "072a64d9",
   "metadata": {},
   "outputs": [],
   "source": [
    "#Made By @Heramb.0x1\n",
    "#DMs Are Open: https://www.linkedin.com/in/heramb0x1/"
   ]
  },
  {
   "cell_type": "code",
   "execution_count": null,
   "id": "a5977471",
   "metadata": {},
   "outputs": [],
   "source": [
    "import cv2"
   ]
  },
  {
   "cell_type": "code",
   "execution_count": null,
   "id": "e37ec85b",
   "metadata": {},
   "outputs": [
    {
     "name": "stdout",
     "output_type": "stream",
     "text": [
      "Requirement already satisfied: opencv-python in c:\\users\\3162f\\appdata\\roaming\\python\\python311\\site-packages (4.8.1.78)\n",
      "Requirement already satisfied: numpy>=1.21.2 in c:\\users\\3162f\\anaconda3\\lib\\site-packages (from opencv-python) (1.24.3)\n"
     ]
    }
   ],
   "source": [
    "!pip install opencv-python"
   ]
  },
  {
   "cell_type": "code",
   "execution_count": null,
   "id": "2d6503eb",
   "metadata": {},
   "outputs": [
    {
     "name": "stdout",
     "output_type": "stream",
     "text": [
      "Requirement already satisfied: opencv-contrib-python in c:\\users\\3162f\\anaconda3\\lib\\site-packages (4.8.1.78)\n",
      "Requirement already satisfied: numpy>=1.21.2 in c:\\users\\3162f\\anaconda3\\lib\\site-packages (from opencv-contrib-python) (1.24.3)\n"
     ]
    }
   ],
   "source": [
    "!pip install opencv-contrib-python"
   ]
  },
  {
   "cell_type": "code",
   "execution_count": null,
   "id": "19f3efca",
   "metadata": {},
   "outputs": [
    {
     "name": "stdout",
     "output_type": "stream",
     "text": [
      "[[[55 89 42]\n",
      "  [49 83 36]\n",
      "  [45 75 32]\n",
      "  ...\n",
      "  [ 5 10 13]\n",
      "  [ 5 10 13]\n",
      "  [ 5 10 13]]\n",
      "\n",
      " [[46 80 33]\n",
      "  [48 82 35]\n",
      "  [51 81 38]\n",
      "  ...\n",
      "  [ 5 10 13]\n",
      "  [ 5 10 13]\n",
      "  [ 5 10 13]]\n",
      "\n",
      " [[49 83 36]\n",
      "  [47 81 34]\n",
      "  [46 76 33]\n",
      "  ...\n",
      "  [ 5 10 13]\n",
      "  [ 5 10 13]\n",
      "  [ 5 10 13]]\n",
      "\n",
      " ...\n",
      "\n",
      " [[ 3 11  4]\n",
      "  [ 1  9  2]\n",
      "  [ 2 10  3]\n",
      "  ...\n",
      "  [16 25 12]\n",
      "  [18 27 14]\n",
      "  [14 23 10]]\n",
      "\n",
      " [[ 3 11  4]\n",
      "  [ 0  8  1]\n",
      "  [ 0  8  1]\n",
      "  ...\n",
      "  [16 26 10]\n",
      "  [17 26 13]\n",
      "  [14 23 10]]\n",
      "\n",
      " [[ 0  8  1]\n",
      "  [ 0  8  1]\n",
      "  [ 0  8  1]\n",
      "  ...\n",
      "  [17 27 11]\n",
      "  [16 26 10]\n",
      "  [14 24  8]]]\n"
     ]
    }
   ],
   "source": [
    "img = cv2.imread(\"D:\\OpenCV (CV-Computer Vision) Project\\parrot.jpg\")\n",
    "# opencv reads image in BGR Format \n",
    "print(img)\n"
   ]
  },
  {
   "cell_type": "code",
   "execution_count": null,
   "id": "f6c21b1e",
   "metadata": {},
   "outputs": [],
   "source": [
    "# convert BGR format to Grayscale\n",
    "img_g = cv2.cvtColor(img, cv2.COLOR_BGR2GRAY)"
   ]
  },
  {
   "cell_type": "code",
   "execution_count": null,
   "id": "7cb5f604",
   "metadata": {},
   "outputs": [],
   "source": [
    "cv2.imshow('Original', img)\n",
    "cv2.imshow('Grayscale', img_g)"
   ]
  },
  {
   "cell_type": "code",
   "execution_count": null,
   "id": "5becb759",
   "metadata": {},
   "outputs": [],
   "source": [
    "# press any key with 0 wait time\n",
    "cv2.waitKey(0)\n",
    "# Close all imageframe\n",
    "cv2.destroyAllWindows()"
   ]
  }
 ],
 "metadata": {
  "kernelspec": {
   "display_name": "Python 3 (ipykernel)",
   "language": "python",
   "name": "python3"
  },
  "language_info": {
   "codemirror_mode": {
    "name": "ipython",
    "version": 3
   },
   "file_extension": ".py",
   "mimetype": "text/x-python",
   "name": "python",
   "nbconvert_exporter": "python",
   "pygments_lexer": "ipython3",
   "version": "3.11.5"
  }
 },
 "nbformat": 4,
 "nbformat_minor": 5
}
